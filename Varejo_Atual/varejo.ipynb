{
 "cells": [
  {
   "cell_type": "code",
   "execution_count": 1,
   "id": "2998cfe3",
   "metadata": {
    "tags": []
   },
   "outputs": [],
   "source": [
    "%%capture\n",
    "%pip install git+https://gitlab-ce.santanderbr.corp/infra_cfo/cfotools.git polars"
   ]
  },
  {
   "cell_type": "code",
   "execution_count": 2,
   "id": "b1b49970",
   "metadata": {
    "tags": []
   },
   "outputs": [],
   "source": [
    "from cfotools.tool import *\n",
    "import polars as pl\n",
    "import variaveis as var\n",
    "import funcoes_varejo as func\n",
    "import funcoes_pnl_anl as pnl_anl"
   ]
  },
  {
   "cell_type": "code",
   "execution_count": null,
   "id": "a0276b44",
   "metadata": {},
   "outputs": [],
   "source": [
    "from importlib import reload\n",
    "from warnings import simplefilter\n",
    "\n",
    "simplefilter('ignore')\n",
    "reload(var)\n",
    "reload(func)\n",
    "reload(pnl_anl)"
   ]
  },
  {
   "cell_type": "code",
   "execution_count": null,
   "id": "f73ed5b7",
   "metadata": {},
   "outputs": [],
   "source": [
    "tb_analitica = pd.read_oracle('gc_clientes.tb_analitico_cenario_pnl_p27')\n",
    "tb_analitica.columns = [col.upper() for col in tb_analitica.columns]\n",
    "tb_analitica"
   ]
  },
  {
   "cell_type": "code",
   "execution_count": null,
   "id": "39966195",
   "metadata": {},
   "outputs": [],
   "source": [
    "pivot_resultado = func.get_pivot_table(tb_analitica)\n",
    "_pivot_resultado = pivot_resultado\n",
    "# anos = pd.to_datetime(tb_analitica['MES'], format='%Y%m').dt.year.unique()\n",
    "num_anos = len(pd.to_datetime(tb_analitica['MES'], format='%Y%m').dt.year.unique())"
   ]
  },
  {
   "cell_type": "code",
   "execution_count": null,
   "id": "f12d6287",
   "metadata": {
    "tags": []
   },
   "outputs": [],
   "source": [
    "_rmodelo_raw = func.gerar_tabela_raw('R_MODELO')\n",
    "rmodelo_fin = func.gerar_tabela_rmodelo(func.gerar_tabela_raw('R_MODELO'), pivot_resultado, var.subtipos, var.segmentos, num_anos, var.cenario)"
   ]
  },
  {
   "cell_type": "code",
   "execution_count": null,
   "id": "9fd7b873",
   "metadata": {},
   "outputs": [],
   "source": []
  },
  {
   "cell_type": "code",
   "execution_count": null,
   "id": "904eb730",
   "metadata": {},
   "outputs": [],
   "source": [
    "for col in rmodelo_fin[0].columns:\n",
    "    print(f'{col=}', rmodelo_fin[0][col].unique().tolist())"
   ]
  },
  {
   "cell_type": "code",
   "execution_count": null,
   "id": "065b4417",
   "metadata": {},
   "outputs": [],
   "source": [
    "rmodelo_raw = rmodelo_raw.iloc[1:]\n",
    "rmodelo_raw = rmodelo_raw.drop(rmodelo_raw.iloc[:, 12:40], axis = 1)\n",
    "rmodelo_raw = rmodelo_raw.rename(columns={'Unnamed: 9': '', '%': f'Reparto % {y1}', '%.1': f'Reparto % {y0}'})"
   ]
  },
  {
   "cell_type": "code",
   "execution_count": null,
   "id": "0d829857",
   "metadata": {
    "tags": []
   },
   "outputs": [],
   "source": [
    "pmodelo_raw = func.gerar_tabela_raw('P_MODELO')\n",
    "pmodelo_fin = func.gerar_tabela_pmodelo(pmodelo_raw, pivot_resultado, var.subtipos, var.segmentos, num_anos, var.cenario)"
   ]
  },
  {
   "cell_type": "code",
   "execution_count": null,
   "id": "527bd436",
   "metadata": {
    "execution": {
     "iopub.execute_input": "2024-12-27T19:40:21.333407Z",
     "iopub.status.busy": "2024-12-27T19:40:21.333201Z",
     "iopub.status.idle": "2024-12-27T19:40:35.040750Z",
     "shell.execute_reply": "2024-12-27T19:40:35.039988Z",
     "shell.execute_reply.started": "2024-12-27T19:40:21.333385Z"
    }
   },
   "outputs": [],
   "source": [
    "pmodelop_fin = func.gerar_tabela_pmodelo_ponta(pmodelo_raw, pivot_resultado, var.subtipos, var.segmentos, num_anos, var.cenario)"
   ]
  },
  {
   "cell_type": "code",
   "execution_count": null,
   "id": "040750f5",
   "metadata": {
    "execution": {
     "iopub.execute_input": "2024-12-27T19:40:35.042154Z",
     "iopub.status.busy": "2024-12-27T19:40:35.041946Z",
     "iopub.status.idle": "2024-12-27T19:53:11.560368Z",
     "shell.execute_reply": "2024-12-27T19:53:11.559619Z",
     "shell.execute_reply.started": "2024-12-27T19:40:35.042129Z"
    }
   },
   "outputs": [],
   "source": [
    "smodelo_fin = func.gerar_tabela_smodelo(pmodelo_fin, rmodelo_fin, func.gerar_tabela_raw('S_MODELO'), var.dic_dias_mes, var.dic_du_mes, var.s_anos, num_anos, var.cenario)"
   ]
  },
  {
   "cell_type": "code",
   "execution_count": null,
   "id": "f1f2e8e0",
   "metadata": {
    "execution": {
     "iopub.execute_input": "2024-12-27T19:53:11.561714Z",
     "iopub.status.busy": "2024-12-27T19:53:11.561507Z",
     "iopub.status.idle": "2024-12-27T19:54:23.377715Z",
     "shell.execute_reply": "2024-12-27T19:54:23.376779Z",
     "shell.execute_reply.started": "2024-12-27T19:53:11.561690Z"
    }
   },
   "outputs": [],
   "source": [
    "cmodelo_fin = func.gerar_tabela_cascmodelo(func.gerar_tabela_raw('Casc_MODELO'), rmodelo_fin, num_anos, var.cenario)"
   ]
  },
  {
   "cell_type": "code",
   "execution_count": null,
   "id": "697d202b",
   "metadata": {
    "execution": {
     "iopub.execute_input": "2024-12-27T19:54:23.380345Z",
     "iopub.status.busy": "2024-12-27T19:54:23.380052Z",
     "iopub.status.idle": "2024-12-27T19:54:36.717972Z",
     "shell.execute_reply": "2024-12-27T19:54:36.717302Z",
     "shell.execute_reply.started": "2024-12-27T19:54:23.380311Z"
    }
   },
   "outputs": [],
   "source": [
    "pmodelo_fin2, pmodelop_fin2, rmodelo_fin2, smodelo_fin2, cascmodelo_fin2 = func.ajustar_colunas_dfs(pmodelo_fin, pmodelop_fin, rmodelo_fin, smodelo_fin, cmodelo_fin, num_anos, var.cenario)\n",
    "header_p, header_r, header_s, header_casc = func.gerar_headers_finais(tb_analitica, num_anos, var.cenario)\n",
    "pmodelo_fin3, pmodelop_fin3, rmodelo_fin3, smodelo_fin3, cascmodelo_fin3 = func.ajustar_headers_finais(\n",
    "    header_p, header_r, header_s, header_casc, pmodelo_fin2, pmodelop_fin2, rmodelo_fin2, smodelo_fin2, cascmodelo_fin2, num_anos, var.cenario\n",
    ")\n",
    "pmodelo_final, pmodelop_final, rmodelo_final, smodelo_final, cascmodelo_final = func.acrescentar_linhas_em_branco_renomear_colunas_data(\n",
    "    pmodelo_fin3, pmodelop_fin3, rmodelo_fin3, smodelo_fin3, cascmodelo_fin3, num_anos, var.cenario\n",
    ")"
   ]
  },
  {
   "cell_type": "code",
   "execution_count": null,
   "id": "8c784398",
   "metadata": {
    "execution": {
     "iopub.execute_input": "2024-12-27T19:54:36.719448Z",
     "iopub.status.busy": "2024-12-27T19:54:36.719236Z",
     "iopub.status.idle": "2024-12-27T19:54:36.918765Z",
     "shell.execute_reply": "2024-12-27T19:54:36.918210Z",
     "shell.execute_reply.started": "2024-12-27T19:54:36.719426Z"
    }
   },
   "outputs": [],
   "source": [
    "df_pnl_VarTotal, df_pnl_Var = pnl_anl.gerar_df_pnl(cmodelo_fin, var.cenario, var.anomes_m0, var.anomes_m1)\n",
    "df_pnl_Var.head(20)"
   ]
  },
  {
   "cell_type": "code",
   "execution_count": null,
   "id": "6f6f091f",
   "metadata": {
    "execution": {
     "iopub.execute_input": "2024-12-27T19:54:36.919839Z",
     "iopub.status.busy": "2024-12-27T19:54:36.919645Z",
     "iopub.status.idle": "2024-12-27T19:54:36.930249Z",
     "shell.execute_reply": "2024-12-27T19:54:36.929686Z",
     "shell.execute_reply.started": "2024-12-27T19:54:36.919817Z"
    }
   },
   "outputs": [],
   "source": [
    "df_pnl_VarTotal.head(20)"
   ]
  },
  {
   "cell_type": "code",
   "execution_count": null,
   "id": "5602aa00",
   "metadata": {
    "execution": {
     "iopub.execute_input": "2024-12-27T19:54:36.931272Z",
     "iopub.status.busy": "2024-12-27T19:54:36.931089Z",
     "iopub.status.idle": "2024-12-27T19:56:17.412860Z",
     "shell.execute_reply": "2024-12-27T19:56:17.412113Z",
     "shell.execute_reply.started": "2024-12-27T19:54:36.931252Z"
    }
   },
   "outputs": [],
   "source": [
    "BAI_check, Segto_check, Segto_P_check, MoM_R01, MoM_R02, MoM_P01 = pnl_anl.gerar_df_analysis(\n",
    "    rmodelo_fin, cmodelo_fin, pmodelo_fin, pmodelop_fin, var.cenario, var.segmentos, var.anomes_m0, var.anomes_m1, var.anomes_m2\n",
    ")\n",
    "rmodelo_pf_valid, rmodelo_pj_valid = pnl_anl.validar_exclusivos_pf_pj(rmodelo_fin2[6], rmodelo_fin2[11], var.cenario)\n",
    "valid_contab_fict_zerados_y0 = pnl_anl.validar_contabil_ficticio_cod_zerados_y0(rmodelo_fin, var.cenario, num_anos)\n",
    "valid_resultado_e_soma_contabil_ficticio = pnl_anl.validar_resultado_e_soma_contabil_ficticio(rmodelo_fin, var.cenario, num_anos)"
   ]
  },
  {
   "cell_type": "code",
   "execution_count": null,
   "id": "fffd16a1",
   "metadata": {
    "execution": {
     "iopub.execute_input": "2024-12-27T19:56:17.470352Z",
     "iopub.status.busy": "2024-12-27T19:56:17.470155Z",
     "iopub.status.idle": "2024-12-27T19:56:17.543378Z",
     "shell.execute_reply": "2024-12-27T19:56:17.541898Z",
     "shell.execute_reply.started": "2024-12-27T19:56:17.470331Z"
    },
    "scrolled": true
   },
   "outputs": [],
   "source": [
    "m0 = datetime.now().month\n",
    "if m0 == 1 and var.cenario.lower() in ('avance', 'avanc', 'avan', 'fechto', 'fechamento', 'fecham'):\n",
    "    y0 = datetime.now().year - 1\n",
    "else:\n",
    "    y0 = datetime.now().year\n",
    "\n",
    "for a in range(len(valid_contab_fict_zerados_y0)):\n",
    "    for b in valid_contab_fict_zerados_y0[a].columns:\n",
    "        if f'{y0}' in b and (a not in (0,1,2,3,4)):\n",
    "            print(f'segm: {a:02}  col: {b}')"
   ]
  },
  {
   "cell_type": "code",
   "execution_count": null,
   "id": "9eb245fc",
   "metadata": {
    "execution": {
     "iopub.execute_input": "2024-12-27T19:56:17.545070Z",
     "iopub.status.busy": "2024-12-27T19:56:17.544728Z",
     "iopub.status.idle": "2024-12-27T19:56:19.776437Z",
     "shell.execute_reply": "2024-12-27T19:56:19.775823Z",
     "shell.execute_reply.started": "2024-12-27T19:56:17.545036Z"
    }
   },
   "outputs": [],
   "source": [
    "excel_valid = pnl_anl.gerar_excel_validadores(\n",
    "    MoM_R01, MoM_R02, MoM_P01, rmodelo_pf_valid, rmodelo_pj_valid, valid_contab_fict_zerados_y0, valid_resultado_e_soma_contabil_ficticio, var.segmentos, var.cenario, var.mesano, var.versao\n",
    ")"
   ]
  },
  {
   "cell_type": "code",
   "execution_count": null,
   "id": "fa970e48",
   "metadata": {
    "execution": {
     "iopub.execute_input": "2024-12-27T19:56:19.777536Z",
     "iopub.status.busy": "2024-12-27T19:56:19.777329Z",
     "iopub.status.idle": "2024-12-27T19:56:19.788750Z",
     "shell.execute_reply": "2024-12-27T19:56:19.788175Z",
     "shell.execute_reply.started": "2024-12-27T19:56:19.777514Z"
    }
   },
   "outputs": [],
   "source": [
    "if 'df_pnl_Var' not in globals():\n",
    "    df_pnl_Var = pd.DataFrame()\n",
    "if 'df_pnl_VarTotal' in globals():\n",
    "    df_pnl_VarTotal = pd.DataFrame()"
   ]
  },
  {
   "cell_type": "code",
   "execution_count": null,
   "id": "a9fd7839",
   "metadata": {
    "execution": {
     "iopub.execute_input": "2024-12-27T19:56:19.789724Z",
     "iopub.status.busy": "2024-12-27T19:56:19.789541Z",
     "iopub.status.idle": "2024-12-27T20:15:20.916998Z",
     "shell.execute_reply": "2024-12-27T20:15:20.916165Z",
     "shell.execute_reply.started": "2024-12-27T19:56:19.789704Z"
    }
   },
   "outputs": [],
   "source": [
    "path_excel_raw = func.gerar_excel_var_atual(df_pnl_VarTotal, df_pnl_Var, pmodelo_final, pmodelop_final, rmodelo_final, smodelo_final, cascmodelo_final, var.segmentos, var.cenario, var.mesano, var.versao)\n",
    "func.personalizar_excel(path_excel_raw, var.cenario, var.mesano, var.versao, num_anos)"
   ]
  }
 ],
 "metadata": {
  "kernelspec": {
   "display_name": "Python 3 (ipykernel)",
   "language": "python",
   "name": "python3"
  },
  "language_info": {
   "codemirror_mode": {
    "name": "ipython",
    "version": 3
   },
   "file_extension": ".py",
   "mimetype": "text/x-python",
   "name": "python",
   "nbconvert_exporter": "python",
   "pygments_lexer": "ipython3",
   "version": "3.10.16"
  },
  "vscode": {
   "interpreter": {
    "hash": "f3edd6d2a8a889c64744fad06203702f0206da1f62766f64f4991277f2a81a2d"
   }
  }
 },
 "nbformat": 4,
 "nbformat_minor": 5
}
