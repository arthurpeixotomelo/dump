{
 "cells": [
  {
   "cell_type": "markdown",
   "id": "64d1d071-b10b-4c85-9db8-55e907babf43",
   "metadata": {
    "tags": []
   },
   "source": [
    "sempre que houver atualização da senha da maquina seguir o passo. \n",
    "1. abra um terminal\n",
    "2. copie e cole sem as aspas \" git clone https://gitlab-ce.santanderbr.corp/infra_cfo/cfotools.git \"\n",
    "3. Coloquei usuario (Enter) Coloque a sua senha (Enter) \n",
    "4. Copie e cole no terminal sem as aspas 'rm -rf cfotools/'"
   ]
  },
  {
   "cell_type": "code",
   "execution_count": 1,
   "id": "ce96d1bf",
   "metadata": {
    "tags": []
   },
   "outputs": [],
   "source": [
    "%%capture\n",
    "%pip install git+https://gitlab-ce.santanderbr.corp/infra_cfo/cfotools.git"
   ]
  },
  {
   "cell_type": "code",
   "execution_count": 2,
   "id": "18452608",
   "metadata": {
    "tags": []
   },
   "outputs": [],
   "source": [
    "from cfotools.tool import *"
   ]
  },
  {
   "cell_type": "raw",
   "id": "cc95738a-3d2f-450d-9597-d4d9ec6baf3d",
   "metadata": {},
   "source": [
    "get_cred('oracle', 'pass')"
   ]
  },
  {
   "cell_type": "raw",
   "id": "752fc8fc-5708-4179-9232-8ae05913d10a",
   "metadata": {},
   "source": [
    "## df = read_oracle(\"select * from GC_CLIENTES.TB_CASCADA_GLOBAL_TM1 where segmento = 'Total Área de Negocio (AN)'\")"
   ]
  },
  {
   "cell_type": "code",
   "execution_count": null,
   "id": "19e2cae7-cfae-4dae-9c89-abe6f579c9ce",
   "metadata": {},
   "outputs": [],
   "source": []
  },
  {
   "cell_type": "code",
   "execution_count": 3,
   "id": "615fe543",
   "metadata": {
    "tags": []
   },
   "outputs": [
    {
     "name": "stdout",
     "output_type": "stream",
     "text": [
      "Processamento em Oracle: Ok\n",
      "Extração salva na Pasta Varejo_Atual: Ok\n"
     ]
    }
   ],
   "source": [
    "pandas_df_oracle = read_oracle('gc_clientes.tb_analitico_cenario_pnl_v2')\n",
    "# pandas_df_oracle = pd.read_oracle('gc_clientes.tb_analitico_cenario_pnl_p28_V2')\n",
    "print('Processamento em Oracle: Ok')\n",
    "\n",
    "pandas_df_oracle.to_csv('/home/container/t720443/01_Varejo_Atual/TB_ANALITICO_CENARIO_PNL.csv', index=False)\n",
    "print('Extração salva na Pasta Varejo_Atual: Ok')"
   ]
  },
  {
   "cell_type": "code",
   "execution_count": 4,
   "id": "49ad5487-4001-4eb9-9f43-9eda43d524a9",
   "metadata": {
    "jupyter": {
     "source_hidden": true
    },
    "tags": []
   },
   "outputs": [
    {
     "data": {
      "application/javascript": [
       "\n",
       "    var audioCtx = new (window.AudioContext || window.webkitAudioContext)();\n",
       "    var duration = 0.2; // segundos\n",
       "    var frequency = 440; // Hertz\n",
       "    var oscillator = audioCtx.createOscillator();\n",
       "    oscillator.type = 'square';\n",
       "    oscillator.frequency.setValueAtTime(frequency, audioCtx.currentTime); // valor em hertz\n",
       "    oscillator.connect(audioCtx.destination);\n",
       "    oscillator.start();\n",
       "    oscillator.stop(audioCtx.currentTime + duration);\n",
       "    alert('Extração de base TB_ANALITICO_CENARIO_PNL Concluída!');\n",
       "    "
      ],
      "text/plain": [
       "<IPython.core.display.Javascript object>"
      ]
     },
     "metadata": {},
     "output_type": "display_data"
    }
   ],
   "source": [
    "from IPython.display import display, Javascript\n",
    "\n",
    "def alerta_sonoro_no_jupyter(mensagem='Extração de base TB_ANALITICO_CENARIO_PNL Concluída!'):\n",
    "    js_code = f\"\"\"\n",
    "    var audioCtx = new (window.AudioContext || window.webkitAudioContext)();\n",
    "    var duration = 0.2; // segundos\n",
    "    var frequency = 440; // Hertz\n",
    "    var oscillator = audioCtx.createOscillator();\n",
    "    oscillator.type = 'square';\n",
    "    oscillator.frequency.setValueAtTime(frequency, audioCtx.currentTime); // valor em hertz\n",
    "    oscillator.connect(audioCtx.destination);\n",
    "    oscillator.start();\n",
    "    oscillator.stop(audioCtx.currentTime + duration);\n",
    "    alert('{mensagem}');\n",
    "    \"\"\"\n",
    "    display(Javascript(js_code))\n",
    "\n",
    "# Chame esta função para exibir um pop-up de alerta com som\n",
    "alerta_sonoro_no_jupyter()"
   ]
  },
  {
   "cell_type": "code",
   "execution_count": 5,
   "id": "c205da6d-0343-4dca-8c07-dd328e45f99a",
   "metadata": {},
   "outputs": [
    {
     "data": {
      "text/plain": [
       "array(['Prévia', 'Negócios'], dtype=object)"
      ]
     },
     "execution_count": 5,
     "metadata": {},
     "output_type": "execute_result"
    }
   ],
   "source": [
    "pandas_df_oracle['cenario'].unique()"
   ]
  },
  {
   "cell_type": "code",
   "execution_count": 6,
   "id": "fa6ace9d-9aa1-4d95-8e0e-e78f3aa534d1",
   "metadata": {},
   "outputs": [
    {
     "data": {
      "text/plain": [
       "array(['Governos', 'Agro Select', 'Empresas MEI', 'Universidades',\n",
       "       'Empresas III', 'Empresas Digital', 'Empresas II',\n",
       "       'Especial Total', 'Varejo Total', 'GIU', 'PJ', 'Especial',\n",
       "       'Prospera', 'Empresas', 'Select Total', 'Select High', 'Select',\n",
       "       'Varejo', 'Empresas I', 'Empresas I Massivo', 'PF', None,\n",
       "       'Cartões', 'Varejo Ampliado', 'E4', 'LARGE', 'SEG002', 'NRA',\n",
       "       'Verticais', 'Consumer Finance', 'Consumer Finance Auto',\n",
       "       'Bco Hyundai', 'Financeira', 'Consumer Finance Bens e Servicos',\n",
       "       'SIM.', 'Financeira B&S', 'Toro Canal Externo', 'Gira',\n",
       "       'Securitizadora', 'FGB', 'Solution4Fleet', 'Real Estate.',\n",
       "       'Return Total', 'Liderança', 'Atual', 'Sec. Proprietária',\n",
       "       'Em Dia.', 'Non Core', 'Select Ex - Agro', 'PF Ex - Agro'],\n",
       "      dtype=object)"
      ]
     },
     "execution_count": 6,
     "metadata": {},
     "output_type": "execute_result"
    }
   ],
   "source": [
    "pandas_df_oracle['segmento'].unique()"
   ]
  },
  {
   "cell_type": "code",
   "execution_count": 7,
   "id": "86443a52-0559-46e5-8dad-1dfabdd1a04c",
   "metadata": {},
   "outputs": [
    {
     "data": {
      "text/plain": [
       "array(['202604', '202510', '202612', '202611', '202608', '202609',\n",
       "       '202605', '202607', '202512', '202511', '202602', '202606',\n",
       "       '202601', '202603', '202610', '202505', '202509', '202407',\n",
       "       '202406', '202411', '202403', '202412', '202404', '202504',\n",
       "       '202408', '202402', '202502', '202405', '202401', '202506',\n",
       "       '202507', '202508', '202503', '202501', '202410', '202409'],\n",
       "      dtype=object)"
      ]
     },
     "execution_count": 7,
     "metadata": {},
     "output_type": "execute_result"
    }
   ],
   "source": [
    "pandas_df_oracle['mes'].unique()"
   ]
  },
  {
   "cell_type": "code",
   "execution_count": 8,
   "id": "607d2ad6",
   "metadata": {
    "tags": []
   },
   "outputs": [
    {
     "data": {
      "text/html": [
       "<div>\n",
       "<style scoped>\n",
       "    .dataframe tbody tr th:only-of-type {\n",
       "        vertical-align: middle;\n",
       "    }\n",
       "\n",
       "    .dataframe tbody tr th {\n",
       "        vertical-align: top;\n",
       "    }\n",
       "\n",
       "    .dataframe thead th {\n",
       "        text-align: right;\n",
       "    }\n",
       "</style>\n",
       "<table border=\"1\" class=\"dataframe\">\n",
       "  <thead>\n",
       "    <tr style=\"text-align: right;\">\n",
       "      <th></th>\n",
       "      <th>cenario</th>\n",
       "      <th>segmento</th>\n",
       "      <th>linha</th>\n",
       "      <th>mes</th>\n",
       "      <th>valor</th>\n",
       "      <th>historico_bp_mis</th>\n",
       "      <th>subtipo</th>\n",
       "      <th>carga_atual</th>\n",
       "      <th>dt_carga</th>\n",
       "    </tr>\n",
       "  </thead>\n",
       "  <tbody>\n",
       "    <tr>\n",
       "      <th>1097985</th>\n",
       "      <td>Negócios</td>\n",
       "      <td>Varejo</td>\n",
       "      <td>1157</td>\n",
       "      <td>202508</td>\n",
       "      <td>4785277.58</td>\n",
       "      <td>Resultado</td>\n",
       "      <td>Resultado Total</td>\n",
       "      <td>0</td>\n",
       "      <td>2025-10-28 10:36:48</td>\n",
       "    </tr>\n",
       "    <tr>\n",
       "      <th>1097986</th>\n",
       "      <td>Negócios</td>\n",
       "      <td>Varejo</td>\n",
       "      <td>1157</td>\n",
       "      <td>202508</td>\n",
       "      <td>4146804.40</td>\n",
       "      <td>Resultado</td>\n",
       "      <td>Contábil</td>\n",
       "      <td>0</td>\n",
       "      <td>2025-10-28 10:36:48</td>\n",
       "    </tr>\n",
       "    <tr>\n",
       "      <th>1097987</th>\n",
       "      <td>Negócios</td>\n",
       "      <td>Varejo</td>\n",
       "      <td>1157</td>\n",
       "      <td>202508</td>\n",
       "      <td>638473.18</td>\n",
       "      <td>Resultado</td>\n",
       "      <td>Fictício</td>\n",
       "      <td>0</td>\n",
       "      <td>2025-10-28 10:36:48</td>\n",
       "    </tr>\n",
       "  </tbody>\n",
       "</table>\n",
       "</div>"
      ],
      "text/plain": [
       "          cenario segmento linha     mes      valor historico_bp_mis  \\\n",
       "1097985  Negócios   Varejo  1157  202508 4785277.58        Resultado   \n",
       "1097986  Negócios   Varejo  1157  202508 4146804.40        Resultado   \n",
       "1097987  Negócios   Varejo  1157  202508  638473.18        Resultado   \n",
       "\n",
       "                 subtipo  carga_atual            dt_carga  \n",
       "1097985  Resultado Total            0 2025-10-28 10:36:48  \n",
       "1097986         Contábil            0 2025-10-28 10:36:48  \n",
       "1097987         Fictício            0 2025-10-28 10:36:48  "
      ]
     },
     "execution_count": 8,
     "metadata": {},
     "output_type": "execute_result"
    }
   ],
   "source": [
    "\n",
    "segmentos_filter = ['Varejo' ]\n",
    "## 'Varejo' , 'Governos', 'Empresas', 'Empresas I', 'Empresas II',\n",
    "## 'Empresas III', 'Empresas Digital', 'Empresas I Massivo', 'GIU',\n",
    "## 'PF', 'Especial Total',  'Universidades', 'Especial', 'PJ', 'Select Total',\n",
    "## 'Agro Select', 'Select', 'Select High', 'Empresas MEI', 'Prospera',\n",
    "## 'Varejo Total', 'Select Ex - Agro']\n",
    "linhas_filter_2 = ['1157']\n",
    "\n",
    "\n",
    "filtro1 = pandas_df_oracle.loc[(pandas_df_oracle['linha'].isin(linhas_filter_2)) &\n",
    "                                 (pandas_df_oracle['mes'].isin(['202508']))&\n",
    "                                \n",
    "#                                 (pandas_df_oracle['cenario'].isin(['Prévia']))]\n",
    "                                 (pandas_df_oracle['historico_bp_mis'] == 'Resultado') &\n",
    "                               #  (pandas_df_oracle['subtipo'] == 'Resultado Total')]\n",
    "                                (pandas_df_oracle['segmento'].isin(segmentos_filter)) ]\n",
    "                               \n",
    "filtro1.head(50).sort_values(by = ['linha', 'historico_bp_mis'])   \n",
    "\n",
    "## 6.115.44 -- Prévia\n",
    "## 2.613.99 -- Negócios\n",
    "## 3.221.54 -- Negócios"
   ]
  },
  {
   "cell_type": "code",
   "execution_count": 9,
   "id": "37c09a51-c4b4-4024-8a57-5480889f174c",
   "metadata": {},
   "outputs": [
    {
     "name": "stdout",
     "output_type": "stream",
     "text": [
      "Quantidade de linhas na base extraída: 2047221\n"
     ]
    }
   ],
   "source": [
    "cont_linhas = pandas_df_oracle.shape[0]\n",
    "print(f'Quantidade de linhas na base extraída: {cont_linhas}')"
   ]
  },
  {
   "cell_type": "code",
   "execution_count": 10,
   "id": "beb59cda-61fd-49ff-a662-cee0d5074f6b",
   "metadata": {},
   "outputs": [],
   "source": [
    "df_ordem_segto = { 'segmento': ['Varejo','PF','Especial Total','Especial','Prospera','PF1 + PF2','Select Total','Agro Select','Select','Select High','PJ','Empresas','Empresas I','Empresas II','Empresas III',\n",
    "     'Empresas Digital','Empresas I Massivo','Empresas MEI','GIU','Gira','Governos','Real Estate.','Toro Canal Externo','Universidades'],\n",
    "         'Ordem': ['1','2','3','4','5','6','7','8','9','10','11','12','13','14','15','16','17','18','21','22','19','23','24','20']}\n",
    "\n",
    "dic = pd.DataFrame(df_ordem_segto)"
   ]
  }
 ],
 "metadata": {
  "kernelspec": {
   "display_name": "DBR-13.3-Workspace-new",
   "language": "python",
   "name": "base-13.3-new-workspace"
  },
  "language_info": {
   "codemirror_mode": {
    "name": "ipython",
    "version": 3
   },
   "file_extension": ".py",
   "mimetype": "text/x-python",
   "name": "python",
   "nbconvert_exporter": "python",
   "pygments_lexer": "ipython3",
   "version": "3.10.16"
  },
  "vscode": {
   "interpreter": {
    "hash": "d4d1e4263499bec80672ea0156c357c1ee493ec2b1c70f0acce89fc37c4a6abe"
   }
  }
 },
 "nbformat": 4,
 "nbformat_minor": 5
}
